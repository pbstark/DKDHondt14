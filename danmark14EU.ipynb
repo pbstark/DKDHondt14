{
 "metadata": {
  "kernelspec": {
   "display_name": "Python 3",
   "language": "python",
   "name": "python3"
  },
  "language_info": {
   "codemirror_mode": {
    "name": "ipython",
    "version": 3
   },
   "file_extension": ".py",
   "mimetype": "text/x-python",
   "name": "python",
   "nbconvert_exporter": "python",
   "pygments_lexer": "ipython3",
   "version": "3.6.7"
  },
  "name": "",
  "toc": {
   "colors": {
    "hover_highlight": "#DAA520",
    "running_highlight": "#FF0000",
    "selected_highlight": "#FFD700"
   },
   "moveMenuLeft": true,
   "nav_menu": {
    "height": "117px",
    "width": "252px"
   },
   "navigate_menu": true,
   "number_sections": true,
   "sideBar": true,
   "threshold": 4,
   "toc_cell": false,
   "toc_section_display": "block",
   "toc_window_display": false,
   "widenNotebook": false
  }
 },
 "nbformat": 3,
 "nbformat_minor": 0,
 "worksheets": [
  {
   "cells": [
    {
     "cell_type": "markdown",
     "metadata": {},
     "source": [
      "# Risk-limiting audit code for Proportional Representation via Highest Averages\n",
      "\n",
      "Code and demo from [Verifiable European Elections: Risk-limiting\n",
      "Audits for D\u2019Hondt and its relatives](https://www.usenix.org/jets/issues/0301/stark) by\n",
      "Philip B. Stark and\n",
      "Vanessa Teague, March 26, 2015\n",
      "\n",
      "Routines:\n",
      "* `dHondt(partyTotals, seats, divisors)`\n",
      "* `uMax(win, lose)`\n",
      "* `minSampleSize(ballots, u, gamma=0.95, alpha=0.1)`\n",
      "\n",
      "Demonstrated on [Denmark's 2014 European Union Parliamentary election](https://en.wikipedia.org/wiki/2014_European_Parliament_election_in_Denmark)\n",
      "which uses an [open list](https://en.wikipedia.org/wiki/Open_list) [proportional representation](https://en.wikipedia.org/wiki/Party-list_proportional_representation) voting method, with seats allocated via the [highest averages method](https://en.wikipedia.org/wiki/Highest_averages_method).\n",
      "\n",
      "Parties can form coalitions, in which case first seats are allocated across the coalitions, and then from the the seats for each coalition, the parties within the coalition are allocated seats.\n",
      "\n",
      "Works with both Python 2.7 and Python 3"
     ]
    },
    {
     "cell_type": "markdown",
     "metadata": {},
     "source": [
      "How the ballots look and are marked (for party, for candidate), from Altinget.dk: [This is how the European Parliament will change EU elections\n",
      "](https://www.altinget.dk/eu-guide/artikel/145258-saadan-vil-europa-parlamentet-forandre-eu-valg)\n",
      "<br>\n",
      "<img style=\"float: left;\" src=\"https://www.altinget.dk/images/article/145258/16579.jpg\">"
     ]
    },
    {
     "cell_type": "code",
     "collapsed": false,
     "input": [
      "from __future__ import division\n",
      "from __future__ import print_function\n",
      "\n",
      "import math\n",
      "import numpy as np\n",
      "\n",
      "def dHondt(partyTotals, seats, divisors):\n",
      "    '''\n",
      "    allocate <seats> seats to parties according to <partyTotals> votes,\n",
      "    using D'Hondt proportional allocation with <weights> divisors\n",
      "    \n",
      "    Input:\n",
      "        partyTotals: list of total votes by party\n",
      "        seats:       total number of seats to allocate\n",
      "        divisors:    divisors for proportional allocation. For d'Hondt, divisors are 1, 2, 3, ...\n",
      "    \n",
      "    Returns:\n",
      "        partySeats:  list of number of seats for each party\n",
      "        seated:      list of tuples--parties with at least one seat, \n",
      "                     number of votes that party got, \n",
      "                     and divisor for last seated in the party\n",
      "        notSeated:   list of tuples--parties with at least one lost seat, \n",
      "                     number of votes that party got,\n",
      "                     and divisor for the first non-seated in the party\n",
      "        pseudoCandidates: matrix of votes for each pseudocandidate\n",
      "    '''\n",
      "    pseudoCandidates = np.array([partyTotals,]*seats, ).T/divisors.astype(float)\n",
      "    sortedPC = np.sort(np.ravel(pseudoCandidates))\n",
      "    lastSeated = sortedPC[-seats]\n",
      "    theSeated = np.where(pseudoCandidates >= lastSeated)\n",
      "    partySeats = np.bincount(theSeated[0], minlength=len(partyTotals)) # number of seats for each party\n",
      "    inx = np.nonzero(partySeats)[0]  # only those with at least one seat\n",
      "    seated = list(zip(inx, partyTotals[inx], divisors[partySeats[inx]-1]))\n",
      "                                           # parties with at least one seat, \n",
      "                                           # number of votes that party got,\n",
      "                                           # and divisor for last seated in the party\n",
      "    theNotSeated = np.where(pseudoCandidates < lastSeated)\n",
      "    partyNotSeats = np.bincount(theNotSeated[0], minlength=len(partyTotals)) # number of non-seats for each party\n",
      "    inx = np.nonzero(partyNotSeats)[0]\n",
      "    notSeated = list(zip(inx, partyTotals[inx], divisors[partySeats[inx]]))\n",
      "                                           # parties with at least one unseated, \n",
      "                                           # number of votes that party got,\n",
      "                                           # and divisor for the first non-seated in the party\n",
      "    if (lastSeated == sortedPC[-(seats+1)]):\n",
      "        raise ValueError(\"Tied contest for the last seat!\")\n",
      "    else:\n",
      "        return partySeats, seated, notSeated, lastSeated, pseudoCandidates\n",
      "    \n",
      "def uMax(win, lose):  \n",
      "    ''' \n",
      "    finds the upper bound u on the MICRO for the contest\n",
      "    win and lose are lists of triples: [party, tally(party), divisor]\n",
      "    the divisor for win is the largest divisor for any seat the party won\n",
      "    the divisor for lose is the smallest divisor for any seat the party lost\n",
      "    See Stark and Teague, 2014, equation 7.\n",
      "    \n",
      "    Input: \n",
      "        win:  list of triples--party, tally(party), divisor\n",
      "        lose: list of triples--party, tally(party), divisor\n",
      "        \n",
      "    Returns:\n",
      "        maximum possible relative overstatement for any ballot\n",
      "    '''\n",
      "    new_u = 0.0\n",
      "    u = new_u\n",
      "    for w in win:\n",
      "        for ell in lose:\n",
      "            if w[0] != ell[0]:\n",
      "                new_u = (ell[2] + w[2]) / (ell[2]*w[1] - w[2]*ell[1])\n",
      "                u = max(u, new_u)\n",
      "                # print \"%s,\" % ((round(u, 7), round(new_u, 7), w, ell),)  # u: %.4g, new_u: %.4g, winner: %s, loser: %s\n",
      "    return u\n",
      "\n",
      "def minSampleSize(ballots, u, gamma=0.95, alpha=0.1):\n",
      "    '''\n",
      "    find smallest sample size for ballot-level comparison audit\n",
      "    using risk-limit alpha, and cushion gamma \\in (0,1)\n",
      "\n",
      "    1/alpha = (gamma/(1-1/(ballots*u))+1-gamma)**n\n",
      "    Input: \n",
      "        ballots: number of ballots cast in the contest\n",
      "        u:       upper bound on overstatement per ballot\n",
      "        gamma:   hedge against finding a ballot that attains the upper bound. Larger values give\n",
      "                 less protection\n",
      "        alpha:   risk limit\n",
      "    '''\n",
      "    return math.ceil(math.log(1.0/alpha) / math.log(gamma/(1.0-1.0/(ballots*u)) + 1.0 - gamma))"
     ],
     "language": "python",
     "metadata": {},
     "outputs": [],
     "prompt_number": 1
    },
    {
     "cell_type": "heading",
     "level": 2,
     "metadata": {},
     "source": [
      "Re-tally election results"
     ]
    },
    {
     "cell_type": "code",
     "collapsed": false,
     "input": [
      "# Final 2014 Danish EU Parliamentary election results from http://www.dst.dk/valg/Valg1475795/valgopg/valgopgHL.htm\n",
      "# There were two coalitions: (A,B,F) and (C,V)\n",
      "#\n",
      "#  Official results by party\n",
      "#\n",
      "A = 435245\n",
      "B = 148949\n",
      "C = 208262\n",
      "F = 249305\n",
      "I = 65480\n",
      "N = 183724\n",
      "O = 605889\n",
      "V = 379840\n",
      "Ballots = 2332217  # includes invalid and blank ballots\n",
      "nSeats = 13  # seats to allocate\n",
      "#\n",
      "# allocate seats to coalitions\n",
      "#\n",
      "coalitionTotals = np.array([A+B+F, C+V, I, N, O])  # for coalitions\n",
      "coalitionSeats, coalitionSeated, coalitionNotSeated, coalitionLastSeated, coalitionPCs = dHondt(coalitionTotals, nSeats, np.arange(1, nSeats+1))\n",
      "print('A+B+F, C+V, I, N, O:', coalitionSeats)\n",
      "#\n",
      "# allocate seats within coalitions\n",
      "#\n",
      "nABFSeats = coalitionSeats[0]\n",
      "nCVSeats = coalitionSeats[1]\n",
      "ABFSeats, ABFSeated, ABFNotSeated, ABFLastSeated, ABFPCs = dHondt(np.array([A, B, F]), nABFSeats, np.arange(1, nABFSeats+1))\n",
      "CVSeats, CVSeated, CVNotSeated, CVLastSeated, CVPCs = dHondt(np.array([C, V]), nCVSeats, np.arange(1, nCVSeats+1))\n",
      "#\n",
      "print('A, B, F:', ABFSeats, ';  C, V:', CVSeats)\n",
      "#\n",
      "ASeats = ABFSeats[0]\n",
      "BSeats = ABFSeats[1]\n",
      "CSeats = CVSeats[0]\n",
      "FSeats = ABFSeats[2]\n",
      "ISeats = coalitionSeats[2]\n",
      "NSeats = coalitionSeats[3]\n",
      "OSeats = coalitionSeats[4]\n",
      "VSeats = CVSeats[1]\n",
      "allSeats = [ASeats, BSeats, CSeats, FSeats, ISeats, NSeats, OSeats, VSeats]\n",
      "\n",
      "print('---------------\\nSeats to parties A, B, C, F, I, N, O, V: ', allSeats)\n",
      "print('Seated coalitions, votes, divisor:', coalitionSeated)\n",
      "print('Non-Seated coalitions, votes, divisor:', coalitionNotSeated)"
     ],
     "language": "python",
     "metadata": {},
     "outputs": [
      {
       "output_type": "stream",
       "stream": "stdout",
       "text": [
        "A+B+F, C+V, I, N, O: [5 3 0 1 4]\n",
        "A, B, F: [3 1 1] ;  C, V: [1 2]\n",
        "---------------\n",
        "Seats to parties A, B, C, F, I, N, O, V:  [3, 1, 1, 1, 0, 1, 4, 2]\n",
        "Seated coalitions, votes, divisor: [(0, 833499, 5), (1, 588102, 3), (3, 183724, 1), (4, 605889, 4)]\n",
        "Non-Seated coalitions, votes, divisor: [(0, 833499, 6), (1, 588102, 4), (2, 65480, 1), (3, 183724, 2), (4, 605889, 5)]\n"
       ]
      }
     ],
     "prompt_number": 2
    },
    {
     "cell_type": "heading",
     "level": 2,
     "metadata": {},
     "source": [
      "Audit: initial sample size"
     ]
    },
    {
     "cell_type": "code",
     "collapsed": false,
     "input": [
      "gamma = 0.95  # tuning constant in the Kaplan-Wald method\n",
      "alpha = 0.001 # risk limit\n",
      "\n",
      "u = uMax(coalitionSeated, coalitionNotSeated)\n",
      "\n",
      "print(\"Minimum ballot-level comparison sample size = %d\\n for max total overstatement = %.2f, u = %.4g, gamma = %.2f, alpha = %.3f\" %\n",
      "      (minSampleSize(Ballots, u, gamma, alpha), Ballots*u, u, gamma, alpha))"
     ],
     "language": "python",
     "metadata": {},
     "outputs": [
      {
       "output_type": "stream",
       "stream": "stdout",
       "text": [
        "Minimum ballot-level comparison sample size = 1903\n",
        " for max total overstatement = 262.24, u = 0.0001124, gamma = 0.95, alpha = 0.001\n"
       ]
      }
     ],
     "prompt_number": 3
    }
   ],
   "metadata": {}
  }
 ]
}
